{
 "cells": [
  {
   "cell_type": "code",
   "execution_count": null,
   "id": "739c37a4-4d66-452f-9c74-96e6d0da4900",
   "metadata": {},
   "outputs": [],
   "source": [
    "Q1. Create a vehicle class with an init method having instance variables as name_of_vehicle, max_speed\n",
    "and average_of_vehicle."
   ]
  },
  {
   "cell_type": "code",
   "execution_count": 5,
   "id": "af37e1d7-df4a-4d4a-a833-61eb1d5c7919",
   "metadata": {},
   "outputs": [],
   "source": [
    "class vehicle:\n",
    "    def __init__(self,name_of_vehicle,max_speed_of_vehicle,average_speed_of_vehicle):\n",
    "        self.name_of_vehicle = name_of_vehicle\n",
    "        self.max_speed_of_vehicle = max_speed_of_vehicle\n",
    "        self.average_speed_of_vehicle = average_speed_of_vehicle\n",
    "       \n",
    "    def vehicle_details(self):\n",
    "         return self.name_of_vehicle, self.max_speed_of_vehicle, self.average_speed_of_vehicle\n",
    "        "
   ]
  },
  {
   "cell_type": "code",
   "execution_count": 6,
   "id": "6bc49851-de15-4b41-816b-b11354408ce3",
   "metadata": {},
   "outputs": [],
   "source": [
    "Vehicles = vehicle(\"Innova\",180,100)"
   ]
  },
  {
   "cell_type": "code",
   "execution_count": 8,
   "id": "9794f4f7-33ec-4cf2-9a13-80539d59f2ce",
   "metadata": {},
   "outputs": [
    {
     "data": {
      "text/plain": [
       "('Innova', 180, 100)"
      ]
     },
     "execution_count": 8,
     "metadata": {},
     "output_type": "execute_result"
    }
   ],
   "source": [
    "Vehicles.vehicle_details()"
   ]
  },
  {
   "cell_type": "code",
   "execution_count": 9,
   "id": "476076ee-6cea-4901-b879-6bca803dd1d1",
   "metadata": {},
   "outputs": [
    {
     "data": {
      "text/plain": [
       "'Innova'"
      ]
     },
     "execution_count": 9,
     "metadata": {},
     "output_type": "execute_result"
    }
   ],
   "source": [
    "Vehicles.name_of_vehicle"
   ]
  },
  {
   "cell_type": "code",
   "execution_count": 12,
   "id": "6c48c220-7544-4cb6-b1b3-e52bf9701c77",
   "metadata": {},
   "outputs": [
    {
     "data": {
      "text/plain": [
       "180"
      ]
     },
     "execution_count": 12,
     "metadata": {},
     "output_type": "execute_result"
    }
   ],
   "source": [
    "Vehicles.max_speed_of_vehicle"
   ]
  },
  {
   "cell_type": "code",
   "execution_count": 13,
   "id": "659f56e8-e5bf-4bbe-8c86-a00daf83e36a",
   "metadata": {},
   "outputs": [
    {
     "data": {
      "text/plain": [
       "100"
      ]
     },
     "execution_count": 13,
     "metadata": {},
     "output_type": "execute_result"
    }
   ],
   "source": [
    "Vehicles.average_speed_of_vehicle"
   ]
  },
  {
   "cell_type": "code",
   "execution_count": 14,
   "id": "895345c0-3528-4598-be8c-aa1c6c342efd",
   "metadata": {},
   "outputs": [],
   "source": [
    "Vehicles_1 = vehicle(\"swift\",140,80)"
   ]
  },
  {
   "cell_type": "code",
   "execution_count": 15,
   "id": "e74c475b-ea49-460b-b1da-d7a3d975ac1e",
   "metadata": {},
   "outputs": [
    {
     "data": {
      "text/plain": [
       "('swift', 140, 80)"
      ]
     },
     "execution_count": 15,
     "metadata": {},
     "output_type": "execute_result"
    }
   ],
   "source": [
    "Vehicles_1.vehicle_details()"
   ]
  },
  {
   "cell_type": "code",
   "execution_count": 16,
   "id": "c62a3a11-17d7-4259-a5e5-98b91645c3dd",
   "metadata": {},
   "outputs": [
    {
     "data": {
      "text/plain": [
       "'swift'"
      ]
     },
     "execution_count": 16,
     "metadata": {},
     "output_type": "execute_result"
    }
   ],
   "source": [
    "Vehicles_1.name_of_vehicle"
   ]
  },
  {
   "cell_type": "code",
   "execution_count": 17,
   "id": "f7c5996d-0321-4213-8271-4c5114d0fb58",
   "metadata": {},
   "outputs": [
    {
     "data": {
      "text/plain": [
       "140"
      ]
     },
     "execution_count": 17,
     "metadata": {},
     "output_type": "execute_result"
    }
   ],
   "source": [
    "Vehicles_1.max_speed_of_vehicle"
   ]
  },
  {
   "cell_type": "code",
   "execution_count": 18,
   "id": "b9dace90-e679-4805-b941-c49f323081a7",
   "metadata": {},
   "outputs": [
    {
     "data": {
      "text/plain": [
       "80"
      ]
     },
     "execution_count": 18,
     "metadata": {},
     "output_type": "execute_result"
    }
   ],
   "source": [
    "Vehicles_1.average_speed_of_vehicle"
   ]
  },
  {
   "cell_type": "code",
   "execution_count": null,
   "id": "d52f780f-fb32-4529-9141-c13464cdacf5",
   "metadata": {},
   "outputs": [],
   "source": [
    "Q2. Create a child class car from the vehicle class created in Que 1, which will inherit the vehicle class.\n",
    "Create a method named seating_capacity which takes capacity as an argument and returns the name of\n",
    "the vehicle and its seating capacity."
   ]
  },
  {
   "cell_type": "code",
   "execution_count": 86,
   "id": "e0723ddc-1c47-4d0e-92bc-67d123ce2f10",
   "metadata": {},
   "outputs": [],
   "source": [
    "class vehicle:\n",
    "    def __init__(self,name_of_vehicle,max_speed_of_vehicle,average_speed_of_vehicle):\n",
    "        self.name_of_vehicle = name_of_vehicle\n",
    "        self.max_speed_of_vehicle = max_speed_of_vehicle\n",
    "        self.average_speed_of_vehicle = average_speed_of_vehicle\n",
    "       \n",
    "    def vehicle_details(self):\n",
    "         return self.name_of_vehicle, self.max_speed_of_vehicle, self.average_speed_of_vehicle"
   ]
  },
  {
   "cell_type": "code",
   "execution_count": 89,
   "id": "a8b2b6a3-a9e1-4760-ac4e-58c7eb3123d7",
   "metadata": {},
   "outputs": [],
   "source": [
    "class car(vehicle):\n",
    "    def seating_capacity(self,capacity):\n",
    "        self.capacity = capacity\n",
    "        return f\"The {self.name_of_vehicle} has a seating capacity of {self.capacity}\""
   ]
  },
  {
   "cell_type": "code",
   "execution_count": 90,
   "id": "96e25b5c-3a89-4620-9b11-10a0f2f720c4",
   "metadata": {},
   "outputs": [],
   "source": [
    "Car = car(\"Innova\",180,100)"
   ]
  },
  {
   "cell_type": "code",
   "execution_count": 24,
   "id": "2e0ce979-f1cf-4e03-843b-286f7282d28d",
   "metadata": {},
   "outputs": [
    {
     "data": {
      "text/plain": [
       "('Innova', 180, 100)"
      ]
     },
     "execution_count": 24,
     "metadata": {},
     "output_type": "execute_result"
    }
   ],
   "source": [
    "Car.vehicle_details()"
   ]
  },
  {
   "cell_type": "code",
   "execution_count": 26,
   "id": "6cc9e453-cda9-4938-9463-51bd843d017b",
   "metadata": {},
   "outputs": [
    {
     "data": {
      "text/plain": [
       "'Innova'"
      ]
     },
     "execution_count": 26,
     "metadata": {},
     "output_type": "execute_result"
    }
   ],
   "source": [
    "Car.name_of_vehicle"
   ]
  },
  {
   "cell_type": "code",
   "execution_count": 27,
   "id": "a2e2284f-06e8-4544-be7c-0578cc522eb0",
   "metadata": {},
   "outputs": [
    {
     "data": {
      "text/plain": [
       "180"
      ]
     },
     "execution_count": 27,
     "metadata": {},
     "output_type": "execute_result"
    }
   ],
   "source": [
    "Car.max_speed_of_vehicle"
   ]
  },
  {
   "cell_type": "code",
   "execution_count": 28,
   "id": "9f38aa77-2db9-4f60-bd7f-b17e75efff04",
   "metadata": {},
   "outputs": [
    {
     "data": {
      "text/plain": [
       "100"
      ]
     },
     "execution_count": 28,
     "metadata": {},
     "output_type": "execute_result"
    }
   ],
   "source": [
    "Car.average_speed_of_vehicle"
   ]
  },
  {
   "cell_type": "code",
   "execution_count": 91,
   "id": "67afdbfc-b2c1-41d1-a987-7da938bbe1ca",
   "metadata": {},
   "outputs": [
    {
     "data": {
      "text/plain": [
       "'The Innova has a seating capacity of 7'"
      ]
     },
     "execution_count": 91,
     "metadata": {},
     "output_type": "execute_result"
    }
   ],
   "source": [
    "Car.seating_capacity(7)"
   ]
  },
  {
   "cell_type": "code",
   "execution_count": 92,
   "id": "d9da688e-8896-4947-957e-05fae1e4fb7f",
   "metadata": {},
   "outputs": [
    {
     "data": {
      "text/plain": [
       "'The Innova has a seating capacity of 5'"
      ]
     },
     "execution_count": 92,
     "metadata": {},
     "output_type": "execute_result"
    }
   ],
   "source": [
    "Car.seating_capacity(5)"
   ]
  },
  {
   "cell_type": "code",
   "execution_count": null,
   "id": "50fa729c-caa0-4d56-8e43-d89752ca43c1",
   "metadata": {},
   "outputs": [],
   "source": [
    "Q3. What is multiple inheritance? Write a python code to demonstrate multiple inheritance.\n",
    "\n",
    "Multiple inheritance is a inheritance in which one child class inherit the properties of more than one parent class."
   ]
  },
  {
   "cell_type": "code",
   "execution_count": 99,
   "id": "c16374ba-6382-477c-9c34-2554079764df",
   "metadata": {},
   "outputs": [],
   "source": [
    "class class1:\n",
    "    def test_class1(self):\n",
    "        print(\"This is my class1\")\n",
    "class class2:\n",
    "    def test_class2(self):\n",
    "        print(\"This is my class2\")\n",
    "class class3(class1,class2):\n",
    "    def test_class3(self):\n",
    "        print(\"This is my class3\")"
   ]
  },
  {
   "cell_type": "code",
   "execution_count": 100,
   "id": "5478af3e-fc01-439b-9088-80fd58a6f374",
   "metadata": {},
   "outputs": [],
   "source": [
    "obj_class3 = class3()"
   ]
  },
  {
   "cell_type": "code",
   "execution_count": 101,
   "id": "a6c60b4e-88ce-4818-9b2f-7025905eff76",
   "metadata": {},
   "outputs": [
    {
     "name": "stdout",
     "output_type": "stream",
     "text": [
      "This is my class1\n"
     ]
    }
   ],
   "source": [
    "obj_class3.test_class1()"
   ]
  },
  {
   "cell_type": "code",
   "execution_count": 102,
   "id": "5c2e575b-3fdb-4970-9f59-610dff0cf47c",
   "metadata": {},
   "outputs": [
    {
     "name": "stdout",
     "output_type": "stream",
     "text": [
      "This is my class2\n"
     ]
    }
   ],
   "source": [
    "obj_class3.test_class2()"
   ]
  },
  {
   "cell_type": "code",
   "execution_count": 103,
   "id": "25a1864c-6d94-42de-b62b-3eb9a1f2bbcb",
   "metadata": {},
   "outputs": [
    {
     "name": "stdout",
     "output_type": "stream",
     "text": [
      "This is my class3\n"
     ]
    }
   ],
   "source": [
    "obj_class3.test_class3()"
   ]
  },
  {
   "cell_type": "code",
   "execution_count": null,
   "id": "3e229a97-499e-49fc-b153-5e5325dca7d6",
   "metadata": {},
   "outputs": [],
   "source": [
    "Q4. What are getter and setter in python? Create a class and create a getter and a setter method in this\n",
    "class.\n",
    "\n",
    "\"Getters and Setters\" are used to ensure the controlled access of class attributes. Getters are used to retrieve the value of a private attribute, and setters are used to modify the value of a private attribute, allowing for proper validation or other necessary operations during attribute assignment."
   ]
  },
  {
   "cell_type": "code",
   "execution_count": 252,
   "id": "910a8047-1807-4115-aa4b-ceddaddf97f5",
   "metadata": {},
   "outputs": [],
   "source": [
    "class car:\n",
    "    def __init__(self,year,model,speed):\n",
    "        self.__year = year\n",
    "        self.__model = model\n",
    "        self.__speed = 0\n",
    "        \n",
    "    def set_speed(self,speed):\n",
    "        self.__speed = 0 if speed < 0 else speed\n",
    "        \n",
    "    def get_speed(self):\n",
    "        return self.__speed\n",
    "    \n",
    "    "
   ]
  },
  {
   "cell_type": "code",
   "execution_count": 254,
   "id": "22f3cc2b-13ec-439c-bc79-479bed91ed2e",
   "metadata": {},
   "outputs": [],
   "source": [
    "obj_car = car(2022,\"Toyota\",100)"
   ]
  },
  {
   "cell_type": "code",
   "execution_count": 223,
   "id": "97d9e6b6-90cd-4416-8b4d-391aeb6f6750",
   "metadata": {},
   "outputs": [
    {
     "data": {
      "text/plain": [
       "<__main__.car at 0x7f02501545b0>"
      ]
     },
     "execution_count": 223,
     "metadata": {},
     "output_type": "execute_result"
    }
   ],
   "source": [
    "obj_car"
   ]
  },
  {
   "cell_type": "code",
   "execution_count": 224,
   "id": "d121ea94-8238-4fdc-9b67-3438d9e82890",
   "metadata": {},
   "outputs": [
    {
     "data": {
      "text/plain": [
       "2022"
      ]
     },
     "execution_count": 224,
     "metadata": {},
     "output_type": "execute_result"
    }
   ],
   "source": [
    "obj_car._car__year"
   ]
  },
  {
   "cell_type": "code",
   "execution_count": 225,
   "id": "7dcdcfb0-ec30-45c9-a441-658f3c8aacec",
   "metadata": {},
   "outputs": [],
   "source": [
    "obj_car.car__year = 2023"
   ]
  },
  {
   "cell_type": "code",
   "execution_count": 226,
   "id": "7280fd84-a73b-44f3-bee1-74cf362591f0",
   "metadata": {},
   "outputs": [
    {
     "data": {
      "text/plain": [
       "2022"
      ]
     },
     "execution_count": 226,
     "metadata": {},
     "output_type": "execute_result"
    }
   ],
   "source": [
    "obj_car._car__year"
   ]
  },
  {
   "cell_type": "code",
   "execution_count": 227,
   "id": "742dd406-4632-40d6-9120-66aa8a03d49c",
   "metadata": {},
   "outputs": [
    {
     "data": {
      "text/plain": [
       "'Toyota'"
      ]
     },
     "execution_count": 227,
     "metadata": {},
     "output_type": "execute_result"
    }
   ],
   "source": [
    "obj_car._car__model"
   ]
  },
  {
   "cell_type": "code",
   "execution_count": 250,
   "id": "0486b59d-513f-4ff2-a5de-c916a05817e2",
   "metadata": {},
   "outputs": [],
   "source": [
    "obj_car.set_speed(180)"
   ]
  },
  {
   "cell_type": "code",
   "execution_count": 251,
   "id": "f4158011-07d1-4dc0-b2a1-43f888e1b2ad",
   "metadata": {},
   "outputs": [
    {
     "data": {
      "text/plain": [
       "180"
      ]
     },
     "execution_count": 251,
     "metadata": {},
     "output_type": "execute_result"
    }
   ],
   "source": [
    "obj_car._car__speed"
   ]
  },
  {
   "cell_type": "code",
   "execution_count": 255,
   "id": "50d56726-8050-4e3f-a24a-fbf0780aadc2",
   "metadata": {},
   "outputs": [
    {
     "data": {
      "text/plain": [
       "0"
      ]
     },
     "execution_count": 255,
     "metadata": {},
     "output_type": "execute_result"
    }
   ],
   "source": [
    "obj_car.get_speed()"
   ]
  },
  {
   "cell_type": "code",
   "execution_count": null,
   "id": "e16b15e2-7954-477a-8d36-e77848717d64",
   "metadata": {},
   "outputs": [],
   "source": [
    "Q5.What is method overriding in python? Write a python code to demonstrate method overriding.\n",
    "\n",
    "Method overriding in Python occurs when a derived class (child class) defines a method that is already defined in its base class (parent class). It allows a subclass to provide a specific implementation of a method that is already defined in its superclass. The method in the subclass overrides the method in the superclass."
   ]
  },
  {
   "cell_type": "code",
   "execution_count": 256,
   "id": "5df8b2ba-7a5e-4f7d-843e-526f5009ba0b",
   "metadata": {},
   "outputs": [],
   "source": [
    "class Parent:\n",
    "    def show(self):\n",
    "        print(\"This is my parent class\")\n",
    "\n",
    "\n",
    "class Child(Parent):\n",
    "    def show(self):\n",
    "        print(\"This is my child class\")\n"
   ]
  },
  {
   "cell_type": "code",
   "execution_count": 257,
   "id": "7d430e16-9881-4200-a8a8-dd9c28b082dc",
   "metadata": {},
   "outputs": [],
   "source": [
    "parent_obj = Parent()\n",
    "child_obj = Child()"
   ]
  },
  {
   "cell_type": "code",
   "execution_count": 258,
   "id": "a5ad764d-e365-4e3f-8881-8b5728c710e0",
   "metadata": {},
   "outputs": [
    {
     "name": "stdout",
     "output_type": "stream",
     "text": [
      "This is my parent class\n"
     ]
    }
   ],
   "source": [
    "parent_obj.show()"
   ]
  },
  {
   "cell_type": "code",
   "execution_count": 259,
   "id": "2c160583-b89b-4967-b0ce-cf9c4c6b5726",
   "metadata": {},
   "outputs": [
    {
     "name": "stdout",
     "output_type": "stream",
     "text": [
      "This is my child class\n"
     ]
    }
   ],
   "source": [
    "child_obj.show()"
   ]
  },
  {
   "cell_type": "code",
   "execution_count": null,
   "id": "7950c218-95bf-4187-a037-77ad23d0d9d1",
   "metadata": {},
   "outputs": [],
   "source": []
  }
 ],
 "metadata": {
  "kernelspec": {
   "display_name": "Python 3 (ipykernel)",
   "language": "python",
   "name": "python3"
  },
  "language_info": {
   "codemirror_mode": {
    "name": "ipython",
    "version": 3
   },
   "file_extension": ".py",
   "mimetype": "text/x-python",
   "name": "python",
   "nbconvert_exporter": "python",
   "pygments_lexer": "ipython3",
   "version": "3.10.8"
  }
 },
 "nbformat": 4,
 "nbformat_minor": 5
}
